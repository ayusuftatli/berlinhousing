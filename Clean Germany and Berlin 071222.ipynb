{
 "cells": [
  {
   "cell_type": "code",
   "execution_count": 1,
   "id": "4ba8c8c6",
   "metadata": {},
   "outputs": [],
   "source": [
    "import pandas as pd\n",
    "import numpy as np\n",
    "import matplotlib\n",
    "import matplotlib.pyplot as plt\n",
    "import seaborn as sns\n",
    "\n",
    "from matplotlib.pyplot import figure"
   ]
  },
  {
   "cell_type": "code",
   "execution_count": 2,
   "id": "d5b8ca1e",
   "metadata": {},
   "outputs": [],
   "source": [
    "df_orig = pd.read_csv('/Users/yusuftatli/Library/CloudStorage/GoogleDrive-a.yusuftatli@gmail.com/My Drive/portfo/Datasets/DE_rentals.csv',sep=';')"
   ]
  },
  {
   "cell_type": "code",
   "execution_count": 3,
   "id": "21297305",
   "metadata": {},
   "outputs": [],
   "source": [
    "df = df_orig.copy()"
   ]
  },
  {
   "cell_type": "code",
   "execution_count": 4,
   "id": "1f6a4d1b",
   "metadata": {},
   "outputs": [
    {
     "data": {
      "text/html": [
       "<div>\n",
       "<style scoped>\n",
       "    .dataframe tbody tr th:only-of-type {\n",
       "        vertical-align: middle;\n",
       "    }\n",
       "\n",
       "    .dataframe tbody tr th {\n",
       "        vertical-align: top;\n",
       "    }\n",
       "\n",
       "    .dataframe thead th {\n",
       "        text-align: right;\n",
       "    }\n",
       "</style>\n",
       "<table border=\"1\" class=\"dataframe\">\n",
       "  <thead>\n",
       "    <tr style=\"text-align: right;\">\n",
       "      <th></th>\n",
       "      <th>ID</th>\n",
       "      <th>url</th>\n",
       "      <th>creation</th>\n",
       "      <th>Haus/Wohnung</th>\n",
       "      <th>address</th>\n",
       "      <th>city</th>\n",
       "      <th>postcode</th>\n",
       "      <th>quarter</th>\n",
       "      <th>firstname</th>\n",
       "      <th>lastname</th>\n",
       "      <th>...</th>\n",
       "      <th>livingSpace</th>\n",
       "      <th>balcony</th>\n",
       "      <th>builtInKitchen</th>\n",
       "      <th>garden</th>\n",
       "      <th>price</th>\n",
       "      <th>privateOffer</th>\n",
       "      <th>floorplan</th>\n",
       "      <th>Warm_miete</th>\n",
       "      <th>lat</th>\n",
       "      <th>lon</th>\n",
       "    </tr>\n",
       "  </thead>\n",
       "  <tbody>\n",
       "    <tr>\n",
       "      <th>0</th>\n",
       "      <td>134173991</td>\n",
       "      <td>https://www.immobilienscout24.de/expose/134173991</td>\n",
       "      <td>2022-06-03T13:44:33.000+02:00</td>\n",
       "      <td>Wohnung</td>\n",
       "      <td>Annastraße 56, Langen (Hessen), Offenbach (Kreis)</td>\n",
       "      <td>Offenbach (Kreis)</td>\n",
       "      <td>63225</td>\n",
       "      <td>Langen (Hessen)</td>\n",
       "      <td>Magdalena</td>\n",
       "      <td>Felke</td>\n",
       "      <td>...</td>\n",
       "      <td>51.85</td>\n",
       "      <td>True</td>\n",
       "      <td>False</td>\n",
       "      <td>False</td>\n",
       "      <td>420 EUR</td>\n",
       "      <td>False</td>\n",
       "      <td>False</td>\n",
       "      <td>539 EUR/MONTH</td>\n",
       "      <td>49.99613</td>\n",
       "      <td>8.66375</td>\n",
       "    </tr>\n",
       "    <tr>\n",
       "      <th>1</th>\n",
       "      <td>123350152</td>\n",
       "      <td>https://www.immobilienscout24.de/expose/123350152</td>\n",
       "      <td>2022-06-03T13:44:07.000+02:00</td>\n",
       "      <td>Wohnung</td>\n",
       "      <td>Dresdner Straße 12-14, Radeberg, Bautzen (Kreis)</td>\n",
       "      <td>Bautzen (Kreis)</td>\n",
       "      <td>1454</td>\n",
       "      <td>Radeberg</td>\n",
       "      <td>Carsten</td>\n",
       "      <td>Luckner</td>\n",
       "      <td>...</td>\n",
       "      <td>54.57</td>\n",
       "      <td>True</td>\n",
       "      <td>False</td>\n",
       "      <td>False</td>\n",
       "      <td>360 EUR</td>\n",
       "      <td>False</td>\n",
       "      <td>True</td>\n",
       "      <td>550 EUR/MONTH</td>\n",
       "      <td>51.11474</td>\n",
       "      <td>13.91064</td>\n",
       "    </tr>\n",
       "    <tr>\n",
       "      <th>2</th>\n",
       "      <td>134173940</td>\n",
       "      <td>https://www.immobilienscout24.de/expose/134173940</td>\n",
       "      <td>2022-06-03T13:42:18.000+02:00</td>\n",
       "      <td>Wohnung</td>\n",
       "      <td>Jakobervorstadt-Nord, Augsburg</td>\n",
       "      <td>Augsburg</td>\n",
       "      <td>86152</td>\n",
       "      <td>Innenstadt</td>\n",
       "      <td>Nadine</td>\n",
       "      <td>Städtler</td>\n",
       "      <td>...</td>\n",
       "      <td>30.87</td>\n",
       "      <td>False</td>\n",
       "      <td>False</td>\n",
       "      <td>False</td>\n",
       "      <td>545 EUR</td>\n",
       "      <td>False</td>\n",
       "      <td>True</td>\n",
       "      <td>695 EUR/MONTH</td>\n",
       "      <td>no value</td>\n",
       "      <td>no value</td>\n",
       "    </tr>\n",
       "    <tr>\n",
       "      <th>3</th>\n",
       "      <td>134173848</td>\n",
       "      <td>https://www.immobilienscout24.de/expose/134173848</td>\n",
       "      <td>2022-06-03T13:41:23.000+02:00</td>\n",
       "      <td>Wohnung</td>\n",
       "      <td>Annaberger Str. 9, Zentrum, Chemnitz</td>\n",
       "      <td>Chemnitz</td>\n",
       "      <td>9111</td>\n",
       "      <td>Zentrum</td>\n",
       "      <td>no value</td>\n",
       "      <td>WIC - wohnen in chemnitz gmbh</td>\n",
       "      <td>...</td>\n",
       "      <td>49.71</td>\n",
       "      <td>True</td>\n",
       "      <td>False</td>\n",
       "      <td>False</td>\n",
       "      <td>260 EUR</td>\n",
       "      <td>False</td>\n",
       "      <td>True</td>\n",
       "      <td>396 EUR/MONTH</td>\n",
       "      <td>50.82857</td>\n",
       "      <td>12.92091</td>\n",
       "    </tr>\n",
       "    <tr>\n",
       "      <th>4</th>\n",
       "      <td>134173892</td>\n",
       "      <td>https://www.immobilienscout24.de/expose/134173892</td>\n",
       "      <td>2022-06-03T13:40:18.000+02:00</td>\n",
       "      <td>Wohnung</td>\n",
       "      <td>Laufamholz, Nürnberg</td>\n",
       "      <td>Nürnberg</td>\n",
       "      <td>90482</td>\n",
       "      <td>Laufamholz</td>\n",
       "      <td>Christoph</td>\n",
       "      <td>Seitz</td>\n",
       "      <td>...</td>\n",
       "      <td>83.00</td>\n",
       "      <td>True</td>\n",
       "      <td>False</td>\n",
       "      <td>False</td>\n",
       "      <td>835 EUR</td>\n",
       "      <td>False</td>\n",
       "      <td>True</td>\n",
       "      <td>1085 EUR/MONTH</td>\n",
       "      <td>no value</td>\n",
       "      <td>no value</td>\n",
       "    </tr>\n",
       "  </tbody>\n",
       "</table>\n",
       "<p>5 rows × 24 columns</p>\n",
       "</div>"
      ],
      "text/plain": [
       "          ID                                                url  \\\n",
       "0  134173991  https://www.immobilienscout24.de/expose/134173991   \n",
       "1  123350152  https://www.immobilienscout24.de/expose/123350152   \n",
       "2  134173940  https://www.immobilienscout24.de/expose/134173940   \n",
       "3  134173848  https://www.immobilienscout24.de/expose/134173848   \n",
       "4  134173892  https://www.immobilienscout24.de/expose/134173892   \n",
       "\n",
       "                        creation Haus/Wohnung  \\\n",
       "0  2022-06-03T13:44:33.000+02:00      Wohnung   \n",
       "1  2022-06-03T13:44:07.000+02:00      Wohnung   \n",
       "2  2022-06-03T13:42:18.000+02:00      Wohnung   \n",
       "3  2022-06-03T13:41:23.000+02:00      Wohnung   \n",
       "4  2022-06-03T13:40:18.000+02:00      Wohnung   \n",
       "\n",
       "                                             address               city  \\\n",
       "0  Annastraße 56, Langen (Hessen), Offenbach (Kreis)  Offenbach (Kreis)   \n",
       "1   Dresdner Straße 12-14, Radeberg, Bautzen (Kreis)    Bautzen (Kreis)   \n",
       "2                     Jakobervorstadt-Nord, Augsburg           Augsburg   \n",
       "3               Annaberger Str. 9, Zentrum, Chemnitz           Chemnitz   \n",
       "4                               Laufamholz, Nürnberg           Nürnberg   \n",
       "\n",
       "   postcode          quarter  firstname                       lastname  ...  \\\n",
       "0     63225  Langen (Hessen)  Magdalena                          Felke  ...   \n",
       "1      1454         Radeberg    Carsten                        Luckner  ...   \n",
       "2     86152       Innenstadt     Nadine                       Städtler  ...   \n",
       "3      9111          Zentrum   no value  WIC - wohnen in chemnitz gmbh  ...   \n",
       "4     90482       Laufamholz  Christoph                          Seitz  ...   \n",
       "\n",
       "  livingSpace balcony builtInKitchen  garden    price  privateOffer  \\\n",
       "0       51.85    True          False   False  420 EUR         False   \n",
       "1       54.57    True          False   False  360 EUR         False   \n",
       "2       30.87   False          False   False  545 EUR         False   \n",
       "3       49.71    True          False   False  260 EUR         False   \n",
       "4       83.00    True          False   False  835 EUR         False   \n",
       "\n",
       "   floorplan      Warm_miete       lat       lon  \n",
       "0      False   539 EUR/MONTH  49.99613   8.66375  \n",
       "1       True   550 EUR/MONTH  51.11474  13.91064  \n",
       "2       True   695 EUR/MONTH  no value  no value  \n",
       "3       True   396 EUR/MONTH  50.82857  12.92091  \n",
       "4       True  1085 EUR/MONTH  no value  no value  \n",
       "\n",
       "[5 rows x 24 columns]"
      ]
     },
     "execution_count": 4,
     "metadata": {},
     "output_type": "execute_result"
    }
   ],
   "source": [
    "df.head()"
   ]
  },
  {
   "cell_type": "code",
   "execution_count": 5,
   "id": "150c16a7",
   "metadata": {},
   "outputs": [
    {
     "data": {
      "text/plain": [
       "ID                  int64\n",
       "url                object\n",
       "creation           object\n",
       "Haus/Wohnung       object\n",
       "address            object\n",
       "city               object\n",
       "postcode            int64\n",
       "quarter            object\n",
       "firstname          object\n",
       "lastname           object\n",
       "phoneNumber        object\n",
       "company            object\n",
       "title              object\n",
       "numberOfRooms     float64\n",
       "livingSpace       float64\n",
       "balcony              bool\n",
       "builtInKitchen       bool\n",
       "garden               bool\n",
       "price              object\n",
       "privateOffer         bool\n",
       "floorplan            bool\n",
       "Warm_miete         object\n",
       "lat                object\n",
       "lon                object\n",
       "dtype: object"
      ]
     },
     "execution_count": 5,
     "metadata": {},
     "output_type": "execute_result"
    }
   ],
   "source": [
    "df.dtypes"
   ]
  },
  {
   "cell_type": "markdown",
   "id": "f1639fac",
   "metadata": {},
   "source": [
    "There are some unnecessary columns. I'll remove them:"
   ]
  },
  {
   "cell_type": "code",
   "execution_count": 6,
   "id": "5ec692c8",
   "metadata": {},
   "outputs": [],
   "source": [
    "df.drop(['url', 'firstname', 'lastname', 'phoneNumber','lat', 'lon', 'creation', 'ID', 'address'], axis=1, inplace=True)"
   ]
  },
  {
   "cell_type": "markdown",
   "id": "9b8acfaf",
   "metadata": {},
   "source": [
    "In the dataset some values are marked with \"no value\" or \"None\". I should change that to standar null value:"
   ]
  },
  {
   "cell_type": "code",
   "execution_count": 7,
   "id": "57a6cc8f",
   "metadata": {},
   "outputs": [],
   "source": [
    "df = df.replace({\"no value\":pd.NA})\n",
    "df = df.replace({\"None\":pd.NA})"
   ]
  },
  {
   "cell_type": "code",
   "execution_count": 8,
   "id": "9c69c9c4",
   "metadata": {},
   "outputs": [
    {
     "name": "stdout",
     "output_type": "stream",
     "text": [
      "Haus/Wohnung - 0.0%\n",
      "city - 0.0%\n",
      "postcode - 0.0%\n",
      "quarter - 0.0%\n",
      "company - 21.423301567783586%\n",
      "title - 0.0%\n",
      "numberOfRooms - 0.0%\n",
      "livingSpace - 0.0%\n",
      "balcony - 0.0%\n",
      "builtInKitchen - 0.0%\n",
      "garden - 0.0%\n",
      "price - 0.0%\n",
      "privateOffer - 0.0%\n",
      "floorplan - 0.0%\n",
      "Warm_miete - 0.001537042729787888%\n"
     ]
    }
   ],
   "source": [
    "for col in df.columns:\n",
    "    pct_missing = (np.mean(df[col].isnull())*100)\n",
    "    print('{} - {}%'.format(col, pct_missing))"
   ]
  },
  {
   "cell_type": "markdown",
   "id": "2a61749d",
   "metadata": {},
   "source": [
    "About 21 per cent of listings have their company column missing. These listings are probaby from private sellers. I'll drop rows where company column is missing and it is not private offer:"
   ]
  },
  {
   "cell_type": "code",
   "execution_count": 9,
   "id": "b10d282e",
   "metadata": {},
   "outputs": [
    {
     "name": "stdout",
     "output_type": "stream",
     "text": [
      "14\n"
     ]
    }
   ],
   "source": [
    "print(df.loc[(df['company'].isnull()) & (df['privateOffer']==False), 'privateOffer'].count())\n",
    "df = df.drop(df[(df['company'].isnull()) & (df['privateOffer']==False)].index)"
   ]
  },
  {
   "cell_type": "markdown",
   "id": "ee438acd",
   "metadata": {},
   "source": [
    "There are 14 such rows, so it is safe to drop them"
   ]
  },
  {
   "cell_type": "markdown",
   "id": "26ea780a",
   "metadata": {},
   "source": [
    "I'll fill the remaning null \"Company\" rowns with the string \"Private Seller\""
   ]
  },
  {
   "cell_type": "code",
   "execution_count": 10,
   "id": "2f5c0e5e",
   "metadata": {},
   "outputs": [],
   "source": [
    "df['company'].fillna('Private Seller', inplace=True)"
   ]
  },
  {
   "cell_type": "code",
   "execution_count": 11,
   "id": "c1fb1fc0",
   "metadata": {},
   "outputs": [
    {
     "name": "stdout",
     "output_type": "stream",
     "text": [
      "Haus/Wohnung - 0.0%\n",
      "city - 0.0%\n",
      "postcode - 0.0%\n",
      "quarter - 0.0%\n",
      "company - 0.0%\n",
      "title - 0.0%\n",
      "numberOfRooms - 0.0%\n",
      "livingSpace - 0.0%\n",
      "balcony - 0.0%\n",
      "builtInKitchen - 0.0%\n",
      "garden - 0.0%\n",
      "price - 0.0%\n",
      "privateOffer - 0.0%\n",
      "floorplan - 0.0%\n",
      "Warm_miete - 0.001537373551025428%\n"
     ]
    }
   ],
   "source": [
    "for col in df.columns:\n",
    "    pct_missing = (np.mean(df[col].isnull())*100)\n",
    "    print('{} - {}%'.format(col, pct_missing))"
   ]
  },
  {
   "cell_type": "markdown",
   "id": "f73303c1",
   "metadata": {},
   "source": [
    "Only \"Warm_miete\" column has some null values left. It is safe drop them as there are very small number of them."
   ]
  },
  {
   "cell_type": "code",
   "execution_count": 12,
   "id": "dfe8b4f5",
   "metadata": {},
   "outputs": [],
   "source": [
    "df.dropna(inplace=True)"
   ]
  },
  {
   "cell_type": "markdown",
   "id": "dc0df01f",
   "metadata": {},
   "source": [
    "There are no null values left:"
   ]
  },
  {
   "cell_type": "code",
   "execution_count": 13,
   "id": "c50e2327",
   "metadata": {},
   "outputs": [
    {
     "name": "stdout",
     "output_type": "stream",
     "text": [
      "Haus/Wohnung - 0.0%\n",
      "city - 0.0%\n",
      "postcode - 0.0%\n",
      "quarter - 0.0%\n",
      "company - 0.0%\n",
      "title - 0.0%\n",
      "numberOfRooms - 0.0%\n",
      "livingSpace - 0.0%\n",
      "balcony - 0.0%\n",
      "builtInKitchen - 0.0%\n",
      "garden - 0.0%\n",
      "price - 0.0%\n",
      "privateOffer - 0.0%\n",
      "floorplan - 0.0%\n",
      "Warm_miete - 0.0%\n"
     ]
    }
   ],
   "source": [
    "for col in df.columns:\n",
    "    pct_missing = (np.mean(df[col].isnull())*100)\n",
    "    print('{} - {}%'.format(col, pct_missing))"
   ]
  },
  {
   "cell_type": "markdown",
   "id": "a7c09931",
   "metadata": {},
   "source": [
    "\"price\" and \"Warm_miete\" columns have currency abbreviations and uncessary spaces. I'll remove them:"
   ]
  },
  {
   "cell_type": "code",
   "execution_count": 14,
   "id": "fdb217a6",
   "metadata": {},
   "outputs": [
    {
     "name": "stdout",
     "output_type": "stream",
     "text": [
      "  Warm_miete price\n",
      "0        539   420\n",
      "1        550   360\n",
      "2        695   545\n",
      "3        396   260\n",
      "4       1085   835\n"
     ]
    }
   ],
   "source": [
    "df['price'] = df['price'].str.replace(' EUR', '')\n",
    "df['Warm_miete'] = df['Warm_miete'].str.replace(' EUR/MONTH', '')\n",
    "print(df[['Warm_miete', 'price']].head())"
   ]
  },
  {
   "cell_type": "markdown",
   "id": "d59c2813",
   "metadata": {},
   "source": [
    "Then, I'll change the datatype of these columns from integer to float:"
   ]
  },
  {
   "cell_type": "code",
   "execution_count": 15,
   "id": "df8e10b8",
   "metadata": {},
   "outputs": [],
   "source": [
    "df['price'] = df['price'].astype('float64')\n",
    "df['Warm_miete'] = df['Warm_miete'].astype('float64')"
   ]
  },
  {
   "cell_type": "markdown",
   "id": "8b0aae67",
   "metadata": {},
   "source": [
    "No column in this database should have \"0\" as value. I'll check if there is some and remove them:"
   ]
  },
  {
   "cell_type": "code",
   "execution_count": 16,
   "id": "23f1f773",
   "metadata": {},
   "outputs": [
    {
     "name": "stdout",
     "output_type": "stream",
     "text": [
      "numberOfRooms - 0\n",
      "livingSpace - 13\n",
      "price - 29\n",
      "Warm_miete - 19\n"
     ]
    }
   ],
   "source": [
    "for col in df.select_dtypes(include=['float64']).columns:\n",
    "    zero_values = np.sum(df[col]==0)\n",
    "    print('{} - {}'.format(col, zero_values))"
   ]
  },
  {
   "cell_type": "markdown",
   "id": "21de6e68",
   "metadata": {},
   "source": [
    "There are very little number of float columns that have \"0\" as value so I'll remove them:"
   ]
  },
  {
   "cell_type": "code",
   "execution_count": 17,
   "id": "68c43e50",
   "metadata": {},
   "outputs": [],
   "source": [
    "for col in df.select_dtypes(include=['float64']).columns:\n",
    "    df = df.drop(df[(df[col]==0)].index)"
   ]
  },
  {
   "cell_type": "markdown",
   "id": "d2d1dd46",
   "metadata": {},
   "source": [
    "In the dataset the \"bezirk\" (boroughs) and \"quarters\" column are together. I should create a new column called \"bezirk\" seperate them becuase they are my main level of analysis."
   ]
  },
  {
   "cell_type": "code",
   "execution_count": 18,
   "id": "602a96c9",
   "metadata": {},
   "outputs": [],
   "source": [
    "df[['quarter', 'bezirk']] = df['quarter'].str.split('(', expand=True)\n",
    "df['bezirk'] = df['bezirk'].str.replace(')', '', regex=True)\n",
    "df['quarter'] = df['quarter'].str.strip()"
   ]
  },
  {
   "cell_type": "markdown",
   "id": "b3ca9ef3",
   "metadata": {},
   "source": [
    "In the database, the boroughs of most cities are not recored but when it comes to Berlin, there is no null value, so I will leave this as is:"
   ]
  },
  {
   "cell_type": "code",
   "execution_count": 19,
   "id": "05aa4de1",
   "metadata": {},
   "outputs": [
    {
     "name": "stdout",
     "output_type": "stream",
     "text": [
      "Haus/Wohnung - 0.0%\n",
      "city - 0.0%\n",
      "postcode - 0.0%\n",
      "quarter - 0.0%\n",
      "company - 0.0%\n",
      "title - 0.0%\n",
      "numberOfRooms - 0.0%\n",
      "livingSpace - 0.0%\n",
      "balcony - 0.0%\n",
      "builtInKitchen - 0.0%\n",
      "garden - 0.0%\n",
      "price - 0.0%\n",
      "privateOffer - 0.0%\n",
      "floorplan - 0.0%\n",
      "Warm_miete - 0.0%\n",
      "bezirk - 95.61002631214514%\n"
     ]
    }
   ],
   "source": [
    "for col in df.columns:\n",
    "    pct_missing = (np.mean(df[col].isnull())*100)\n",
    "    print('{} - {}%'.format(col, pct_missing))"
   ]
  },
  {
   "cell_type": "code",
   "execution_count": 20,
   "id": "6745230c",
   "metadata": {},
   "outputs": [
    {
     "data": {
      "text/plain": [
       "Haus/Wohnung      0\n",
       "city              0\n",
       "postcode          0\n",
       "quarter           0\n",
       "company           0\n",
       "title             0\n",
       "numberOfRooms     0\n",
       "livingSpace       0\n",
       "balcony           0\n",
       "builtInKitchen    0\n",
       "garden            0\n",
       "price             0\n",
       "privateOffer      0\n",
       "floorplan         0\n",
       "Warm_miete        0\n",
       "bezirk            0\n",
       "dtype: int64"
      ]
     },
     "execution_count": 20,
     "metadata": {},
     "output_type": "execute_result"
    }
   ],
   "source": [
    "df[df.city=='Berlin'].isnull().sum()"
   ]
  },
  {
   "cell_type": "code",
   "execution_count": 21,
   "id": "9c088701",
   "metadata": {},
   "outputs": [
    {
     "data": {
      "text/html": [
       "<div>\n",
       "<style scoped>\n",
       "    .dataframe tbody tr th:only-of-type {\n",
       "        vertical-align: middle;\n",
       "    }\n",
       "\n",
       "    .dataframe tbody tr th {\n",
       "        vertical-align: top;\n",
       "    }\n",
       "\n",
       "    .dataframe thead th {\n",
       "        text-align: right;\n",
       "    }\n",
       "</style>\n",
       "<table border=\"1\" class=\"dataframe\">\n",
       "  <thead>\n",
       "    <tr style=\"text-align: right;\">\n",
       "      <th></th>\n",
       "      <th>postcode</th>\n",
       "      <th>numberOfRooms</th>\n",
       "      <th>livingSpace</th>\n",
       "      <th>price</th>\n",
       "      <th>Warm_miete</th>\n",
       "    </tr>\n",
       "  </thead>\n",
       "  <tbody>\n",
       "    <tr>\n",
       "      <th>count</th>\n",
       "      <td>64989.000000</td>\n",
       "      <td>64989.000000</td>\n",
       "      <td>64989.000000</td>\n",
       "      <td>64989.000000</td>\n",
       "      <td>6.498900e+04</td>\n",
       "    </tr>\n",
       "    <tr>\n",
       "      <th>mean</th>\n",
       "      <td>41267.655496</td>\n",
       "      <td>2.521730</td>\n",
       "      <td>131.394215</td>\n",
       "      <td>747.336269</td>\n",
       "      <td>1.053673e+03</td>\n",
       "    </tr>\n",
       "    <tr>\n",
       "      <th>std</th>\n",
       "      <td>28417.454745</td>\n",
       "      <td>4.316504</td>\n",
       "      <td>7844.806236</td>\n",
       "      <td>7897.679780</td>\n",
       "      <td>2.179705e+04</td>\n",
       "    </tr>\n",
       "    <tr>\n",
       "      <th>min</th>\n",
       "      <td>0.000000</td>\n",
       "      <td>1.000000</td>\n",
       "      <td>1.000000</td>\n",
       "      <td>1.000000</td>\n",
       "      <td>1.000000e+00</td>\n",
       "    </tr>\n",
       "    <tr>\n",
       "      <th>25%</th>\n",
       "      <td>9456.000000</td>\n",
       "      <td>2.000000</td>\n",
       "      <td>50.540000</td>\n",
       "      <td>350.000000</td>\n",
       "      <td>4.950000e+02</td>\n",
       "    </tr>\n",
       "    <tr>\n",
       "      <th>50%</th>\n",
       "      <td>41061.000000</td>\n",
       "      <td>2.000000</td>\n",
       "      <td>64.460000</td>\n",
       "      <td>537.750000</td>\n",
       "      <td>7.050000e+02</td>\n",
       "    </tr>\n",
       "    <tr>\n",
       "      <th>75%</th>\n",
       "      <td>63906.000000</td>\n",
       "      <td>3.000000</td>\n",
       "      <td>82.000000</td>\n",
       "      <td>840.000000</td>\n",
       "      <td>1.050000e+03</td>\n",
       "    </tr>\n",
       "    <tr>\n",
       "      <th>max</th>\n",
       "      <td>99998.000000</td>\n",
       "      <td>999.000000</td>\n",
       "      <td>999999.000000</td>\n",
       "      <td>999999.000000</td>\n",
       "      <td>2.730040e+06</td>\n",
       "    </tr>\n",
       "  </tbody>\n",
       "</table>\n",
       "</div>"
      ],
      "text/plain": [
       "           postcode  numberOfRooms    livingSpace          price    Warm_miete\n",
       "count  64989.000000   64989.000000   64989.000000   64989.000000  6.498900e+04\n",
       "mean   41267.655496       2.521730     131.394215     747.336269  1.053673e+03\n",
       "std    28417.454745       4.316504    7844.806236    7897.679780  2.179705e+04\n",
       "min        0.000000       1.000000       1.000000       1.000000  1.000000e+00\n",
       "25%     9456.000000       2.000000      50.540000     350.000000  4.950000e+02\n",
       "50%    41061.000000       2.000000      64.460000     537.750000  7.050000e+02\n",
       "75%    63906.000000       3.000000      82.000000     840.000000  1.050000e+03\n",
       "max    99998.000000     999.000000  999999.000000  999999.000000  2.730040e+06"
      ]
     },
     "execution_count": 21,
     "metadata": {},
     "output_type": "execute_result"
    }
   ],
   "source": [
    "df.describe()"
   ]
  },
  {
   "cell_type": "markdown",
   "id": "38c4724e",
   "metadata": {},
   "source": [
    "There are clearly some fake/unreasonable entries. I should clean them:"
   ]
  },
  {
   "cell_type": "code",
   "execution_count": 22,
   "id": "6d575613",
   "metadata": {},
   "outputs": [
    {
     "name": "stdout",
     "output_type": "stream",
     "text": [
      "Unreasonably large: 28\n",
      "Unreasonbly low: 41\n"
     ]
    }
   ],
   "source": [
    "print(\"Unreasonably large: \"+str(df[(df['numberOfRooms'] >30) | (df['livingSpace'] > 600) | (df['price'] > 20000) | (df['Warm_miete'] > 20000)]['price'].count()))\n",
    "print(\"Unreasonbly low: \"+str(df[(df['livingSpace'] < 2) | (df['price'] < 100) | (df['Warm_miete'] < 100)]['price'].count()))"
   ]
  },
  {
   "cell_type": "markdown",
   "id": "872e924b",
   "metadata": {},
   "source": [
    "There are only 28 unreasonably large and 41 unreasonably small values. I'll drop them:"
   ]
  },
  {
   "cell_type": "markdown",
   "id": "08af755e-8561-4332-9bcc-22d312f7da28",
   "metadata": {},
   "source": [
    "df = df.drop(df[(df['numberOfRooms'] >30) | (df['livingSpace'] > 600) | (df['price'] > 20000) | (df['Warm_miete'] > 20000)].index)\n",
    "df = df.drop(df[(df['livingSpace'] < 2) | (df['price'] < 100) | (df['Warm_miete'] < 100)].index)"
   ]
  },
  {
   "cell_type": "code",
   "execution_count": 23,
   "id": "a58bdf4b",
   "metadata": {},
   "outputs": [
    {
     "data": {
      "text/html": [
       "<div>\n",
       "<style scoped>\n",
       "    .dataframe tbody tr th:only-of-type {\n",
       "        vertical-align: middle;\n",
       "    }\n",
       "\n",
       "    .dataframe tbody tr th {\n",
       "        vertical-align: top;\n",
       "    }\n",
       "\n",
       "    .dataframe thead th {\n",
       "        text-align: right;\n",
       "    }\n",
       "</style>\n",
       "<table border=\"1\" class=\"dataframe\">\n",
       "  <thead>\n",
       "    <tr style=\"text-align: right;\">\n",
       "      <th></th>\n",
       "      <th>postcode</th>\n",
       "      <th>numberOfRooms</th>\n",
       "      <th>livingSpace</th>\n",
       "      <th>price</th>\n",
       "      <th>Warm_miete</th>\n",
       "    </tr>\n",
       "  </thead>\n",
       "  <tbody>\n",
       "    <tr>\n",
       "      <th>count</th>\n",
       "      <td>64989.000000</td>\n",
       "      <td>64989.000000</td>\n",
       "      <td>64989.000000</td>\n",
       "      <td>64989.000000</td>\n",
       "      <td>6.498900e+04</td>\n",
       "    </tr>\n",
       "    <tr>\n",
       "      <th>mean</th>\n",
       "      <td>41267.655496</td>\n",
       "      <td>2.521730</td>\n",
       "      <td>131.394215</td>\n",
       "      <td>747.336269</td>\n",
       "      <td>1.053673e+03</td>\n",
       "    </tr>\n",
       "    <tr>\n",
       "      <th>std</th>\n",
       "      <td>28417.454745</td>\n",
       "      <td>4.316504</td>\n",
       "      <td>7844.806236</td>\n",
       "      <td>7897.679780</td>\n",
       "      <td>2.179705e+04</td>\n",
       "    </tr>\n",
       "    <tr>\n",
       "      <th>min</th>\n",
       "      <td>0.000000</td>\n",
       "      <td>1.000000</td>\n",
       "      <td>1.000000</td>\n",
       "      <td>1.000000</td>\n",
       "      <td>1.000000e+00</td>\n",
       "    </tr>\n",
       "    <tr>\n",
       "      <th>25%</th>\n",
       "      <td>9456.000000</td>\n",
       "      <td>2.000000</td>\n",
       "      <td>50.540000</td>\n",
       "      <td>350.000000</td>\n",
       "      <td>4.950000e+02</td>\n",
       "    </tr>\n",
       "    <tr>\n",
       "      <th>50%</th>\n",
       "      <td>41061.000000</td>\n",
       "      <td>2.000000</td>\n",
       "      <td>64.460000</td>\n",
       "      <td>537.750000</td>\n",
       "      <td>7.050000e+02</td>\n",
       "    </tr>\n",
       "    <tr>\n",
       "      <th>75%</th>\n",
       "      <td>63906.000000</td>\n",
       "      <td>3.000000</td>\n",
       "      <td>82.000000</td>\n",
       "      <td>840.000000</td>\n",
       "      <td>1.050000e+03</td>\n",
       "    </tr>\n",
       "    <tr>\n",
       "      <th>max</th>\n",
       "      <td>99998.000000</td>\n",
       "      <td>999.000000</td>\n",
       "      <td>999999.000000</td>\n",
       "      <td>999999.000000</td>\n",
       "      <td>2.730040e+06</td>\n",
       "    </tr>\n",
       "  </tbody>\n",
       "</table>\n",
       "</div>"
      ],
      "text/plain": [
       "           postcode  numberOfRooms    livingSpace          price    Warm_miete\n",
       "count  64989.000000   64989.000000   64989.000000   64989.000000  6.498900e+04\n",
       "mean   41267.655496       2.521730     131.394215     747.336269  1.053673e+03\n",
       "std    28417.454745       4.316504    7844.806236    7897.679780  2.179705e+04\n",
       "min        0.000000       1.000000       1.000000       1.000000  1.000000e+00\n",
       "25%     9456.000000       2.000000      50.540000     350.000000  4.950000e+02\n",
       "50%    41061.000000       2.000000      64.460000     537.750000  7.050000e+02\n",
       "75%    63906.000000       3.000000      82.000000     840.000000  1.050000e+03\n",
       "max    99998.000000     999.000000  999999.000000  999999.000000  2.730040e+06"
      ]
     },
     "execution_count": 23,
     "metadata": {},
     "output_type": "execute_result"
    }
   ],
   "source": [
    "df.describe()"
   ]
  },
  {
   "cell_type": "markdown",
   "id": "f236b873",
   "metadata": {},
   "source": [
    "Before I do XX, I want to remove the apartments that do not interest me. Namely, social housing and swap only apartments (tauschwohnung). "
   ]
  },
  {
   "cell_type": "code",
   "execution_count": 24,
   "id": "0aa45de2",
   "metadata": {},
   "outputs": [],
   "source": [
    "df_WBS = df[df['title'].str.contains('WBS') | df['title'].str.contains('Wohnberechtigungsschein')]"
   ]
  },
  {
   "cell_type": "code",
   "execution_count": 25,
   "id": "2b71b01b",
   "metadata": {},
   "outputs": [
    {
     "data": {
      "text/plain": [
       "65"
      ]
     },
     "execution_count": 25,
     "metadata": {},
     "output_type": "execute_result"
    }
   ],
   "source": [
    "len(df_WBS[df_WBS.city=='Berlin'])"
   ]
  },
  {
   "cell_type": "code",
   "execution_count": 26,
   "id": "a07b8346",
   "metadata": {
    "scrolled": true
   },
   "outputs": [],
   "source": [
    "df.drop(df_WBS.index, inplace=True)"
   ]
  },
  {
   "cell_type": "markdown",
   "id": "684935a2",
   "metadata": {},
   "source": [
    "61 per cent o all swap apartments are in Berlin. If I was looking into another city, these apartments would not be a problem. Since I am focusing on Berlin in this project, I'll create a \"Berlin\" dataframe and continue cleaning from there:"
   ]
  },
  {
   "cell_type": "code",
   "execution_count": 27,
   "id": "237b5594",
   "metadata": {},
   "outputs": [],
   "source": [
    "be = df[df.city=='Berlin']"
   ]
  },
  {
   "cell_type": "markdown",
   "id": "f3cce11e",
   "metadata": {},
   "source": [
    "I'll remove the swap apartments is that they are significantly cheaper than the rest: "
   ]
  },
  {
   "cell_type": "code",
   "execution_count": 28,
   "id": "af9ab26a",
   "metadata": {},
   "outputs": [
    {
     "data": {
      "image/png": "[encoded data removed]",
      "text/plain": [
       "<Figure size 432x288 with 1 Axes>"
      ]
     },
     "metadata": {
      "needs_background": "light"
     },
     "output_type": "display_data"
    }
   ],
   "source": [
    "swap = be[be['title'].str.contains('Tausch')]['price']\n",
    "no_swap = be[~(be['title'].str.contains('Tausch'))]['price']\n",
    "plt.hist(x=[swap, no_swap], histtype='step', stacked=True, fill=False, label=['Swap', 'Market Rate'])\n",
    "plt.xlabel('Cold Rent')\n",
    "plt.ylabel('Offers')\n",
    "plt.legend()\n",
    "plt.show()"
   ]
  },
  {
   "cell_type": "code",
   "execution_count": 29,
   "id": "ffb4029c",
   "metadata": {},
   "outputs": [
    {
     "name": "stdout",
     "output_type": "stream",
     "text": [
      "548.5 1247.0\n"
     ]
    }
   ],
   "source": [
    "print(swap.median(), no_swap.median())"
   ]
  },
  {
   "cell_type": "code",
   "execution_count": 30,
   "id": "b9e34b23",
   "metadata": {},
   "outputs": [],
   "source": [
    "be = be.drop(be[be['title'].str.contains('Tausch')].index)"
   ]
  },
  {
   "cell_type": "markdown",
   "id": "b5376c6d",
   "metadata": {},
   "source": [
    "Now that I removed the rows that I definitely do not want, I should find and remove the outliers too:"
   ]
  },
  {
   "cell_type": "code",
   "execution_count": 31,
   "id": "5284acd5",
   "metadata": {},
   "outputs": [],
   "source": [
    "be_float = be.select_dtypes(include=['float64'])"
   ]
  },
  {
   "cell_type": "code",
   "execution_count": 32,
   "id": "99315fff",
   "metadata": {
    "scrolled": true
   },
   "outputs": [
    {
     "data": {
      "image/png": "[encoded data removed]",
      "text/plain": [
       "<Figure size 864x432 with 4 Axes>"
      ]
     },
     "metadata": {
      "needs_background": "light"
     },
     "output_type": "display_data"
    }
   ],
   "source": [
    "fig, a = plt.subplots(2, 2, figsize=(12, 6), tight_layout=True)\n",
    "be_float.plot(ax=a, subplots=True, rot=60, kind='box')\n",
    "plt.show()"
   ]
  },
  {
   "cell_type": "code",
   "execution_count": 33,
   "id": "0ee1125f",
   "metadata": {},
   "outputs": [
    {
     "name": "stdout",
     "output_type": "stream",
     "text": [
      "(97, 4)\n",
      "10.813823857302118\n"
     ]
    }
   ],
   "source": [
    "Q1 = be_float.quantile(0.25)\n",
    "Q3 = be_float.quantile(0.75)\n",
    "IQR = Q3 - Q1\n",
    "\n",
    "df_out = be_float[((be_float< (Q1 - 1.5 * IQR)) | (be_float> (Q3 + 1.5 * IQR))).any(axis=1)]\n",
    "print(df_out.shape)\n",
    "print(len(df_out.index)/len(be.index)*100)"
   ]
  },
  {
   "cell_type": "code",
   "execution_count": 34,
   "id": "9b59eb17",
   "metadata": {},
   "outputs": [],
   "source": [
    "be = be.drop(df_out.index)\n"
   ]
  },
  {
   "cell_type": "code",
   "execution_count": 35,
   "id": "822e5661",
   "metadata": {},
   "outputs": [
    {
     "data": {
      "image/png": "[encoded data removed]",
      "text/plain": [
       "<Figure size 864x432 with 4 Axes>"
      ]
     },
     "metadata": {
      "needs_background": "light"
     },
     "output_type": "display_data"
    }
   ],
   "source": [
    "be_float = be.select_dtypes(include=['float64'])\n",
    "fig, a = plt.subplots(2, 2, figsize=(12, 6), tight_layout=True)\n",
    "be_float.plot(ax=a, subplots=True, rot=60, kind='box')\n",
    "plt.show()"
   ]
  },
  {
   "cell_type": "markdown",
   "id": "69d1911a",
   "metadata": {},
   "source": [
    "Finally I'll create a new column to store the cold rent per square metres: \"rent/m2\":"
   ]
  },
  {
   "cell_type": "code",
   "execution_count": 36,
   "id": "514c9b56",
   "metadata": {},
   "outputs": [],
   "source": [
    "be['rent/m2'] = be['price']/be['livingSpace']"
   ]
  },
  {
   "cell_type": "markdown",
   "id": "ce29f2df",
   "metadata": {},
   "source": [
    "I will also round up the apartment with half rooms to nearest whole number:"
   ]
  },
  {
   "cell_type": "code",
   "execution_count": 37,
   "id": "022a773c",
   "metadata": {},
   "outputs": [
    {
     "data": {
      "text/plain": [
       "2.0    298\n",
       "3.0    209\n",
       "1.0    174\n",
       "4.0     59\n",
       "1.5     26\n",
       "2.5     22\n",
       "3.5      9\n",
       "4.5      3\n",
       "Name: numberOfRooms, dtype: int64"
      ]
     },
     "execution_count": 37,
     "metadata": {},
     "output_type": "execute_result"
    }
   ],
   "source": [
    "be['numberOfRooms'].value_counts()"
   ]
  },
  {
   "cell_type": "code",
   "execution_count": 38,
   "id": "a3652538",
   "metadata": {},
   "outputs": [],
   "source": [
    "be['numberOfRooms'] = np.ceil(be['numberOfRooms'])"
   ]
  },
  {
   "cell_type": "code",
   "execution_count": 39,
   "id": "176fc1db",
   "metadata": {},
   "outputs": [],
   "source": [
    "from scipy import stats"
   ]
  },
  {
   "cell_type": "code",
   "execution_count": 40,
   "id": "78bb7653-891c-460b-b822-304c0acbc93f",
   "metadata": {},
   "outputs": [
    {
     "data": {
      "text/plain": [
       "PointbiserialrResult(correlation=0.07248697642348674, pvalue=0.04039054910477392)"
      ]
     },
     "execution_count": 40,
     "metadata": {},
     "output_type": "execute_result"
    }
   ],
   "source": [
    "stats.pointbiserialr(be['price'], be.garden)"
   ]
  },
  {
   "cell_type": "code",
   "execution_count": 41,
   "id": "f44a9856-c613-4d1c-9268-14e8d7bc0d46",
   "metadata": {},
   "outputs": [
    {
     "data": {
      "text/plain": [
       "garden\n",
       "False    1218.219701\n",
       "True     1358.694198\n",
       "Name: price, dtype: float64"
      ]
     },
     "execution_count": 41,
     "metadata": {},
     "output_type": "execute_result"
    }
   ],
   "source": [
    "be.groupby('garden')['price'].mean()"
   ]
  },
  {
   "cell_type": "code",
   "execution_count": 42,
   "id": "ac98cf38-25f2-446a-8049-ecbdc3e45cb0",
   "metadata": {},
   "outputs": [
    {
     "data": {
      "text/plain": [
       "PointbiserialrResult(correlation=-0.07709671340789616, pvalue=0.029223324279997354)"
      ]
     },
     "execution_count": 42,
     "metadata": {},
     "output_type": "execute_result"
    }
   ],
   "source": [
    "stats.pointbiserialr(be['rent/m2'], be.balcony)"
   ]
  },
  {
   "cell_type": "code",
   "execution_count": 43,
   "id": "f272c92a-223c-4d39-b093-24b9001064dd",
   "metadata": {},
   "outputs": [
    {
     "data": {
      "image/png": "[encoded data removed]",
      "text/plain": [
       "<Figure size 432x288 with 1 Axes>"
      ]
     },
     "metadata": {
      "needs_background": "light"
     },
     "output_type": "display_data"
    }
   ],
   "source": [
    "sns.boxplot(y=be['rent/m2'], x=be['builtInKitchen'])\n",
    "plt.show()"
   ]
  },
  {
   "cell_type": "markdown",
   "id": "1e7b8384-609d-4141-aced-a25cd8580965",
   "metadata": {},
   "source": [
    "There is an outlier that I missed. I'll remove that."
   ]
  },
  {
   "cell_type": "code",
   "execution_count": 45,
   "id": "723f977a-c91b-4f43-8286-80a9e839630f",
   "metadata": {},
   "outputs": [],
   "source": [
    "be = be[be['rent/m2']<800]"
   ]
  },
  {
   "cell_type": "code",
   "execution_count": 46,
   "id": "cd566968-2e46-4227-ab33-f738f6833af6",
   "metadata": {},
   "outputs": [
    {
     "data": {
      "image/png": "[encoded data removed]",
      "text/plain": [
       "<Figure size 432x288 with 1 Axes>"
      ]
     },
     "metadata": {
      "needs_background": "light"
     },
     "output_type": "display_data"
    }
   ],
   "source": [
    "sns.boxplot(y=be['rent/m2'], x=be['builtInKitchen'])\n",
    "plt.show()"
   ]
  },
  {
   "cell_type": "code",
   "execution_count": 47,
   "id": "0d1a06c2-a1ed-49ed-ab5c-b064c64237cd",
   "metadata": {},
   "outputs": [],
   "source": [
    "be.drop(be[be['numberOfRooms']==1.3].index, inplace=True)\n",
    "be.drop(be[be['numberOfRooms']==1.33].index, inplace=True)\n",
    "be.drop(be[be['numberOfRooms']==2.1].index, inplace=True)"
   ]
  },
  {
   "cell_type": "code",
   "execution_count": 48,
   "id": "6c9843ed-d390-4a6f-88ec-dd782ea679ca",
   "metadata": {},
   "outputs": [
    {
     "data": {
      "image/png": "[encoded data removed]",
      "text/plain": [
       "<Figure size 432x288 with 1 Axes>"
      ]
     },
     "metadata": {
      "needs_background": "light"
     },
     "output_type": "display_data"
    }
   ],
   "source": [
    "sns.boxplot(y=be['rent/m2'], x=be['numberOfRooms'])\n",
    "plt.show()"
   ]
  },
  {
   "cell_type": "code",
   "execution_count": 49,
   "id": "ebd3b4bf-c8ab-4678-b615-0cf12bedf45a",
   "metadata": {},
   "outputs": [
    {
     "data": {
      "text/plain": [
       "(-0.14922158648429032, 2.2843490240481522e-05)"
      ]
     },
     "execution_count": 49,
     "metadata": {},
     "output_type": "execute_result"
    }
   ],
   "source": [
    "stats.pearsonr(be['rent/m2'], be['numberOfRooms'])"
   ]
  },
  {
   "cell_type": "code",
   "execution_count": 50,
   "id": "adce8e21-6dd2-4f61-8969-4f29073c4e31",
   "metadata": {},
   "outputs": [
    {
     "data": {
      "text/plain": [
       "builtInKitchen\n",
       "False     972.577276\n",
       "True     1423.920063\n",
       "Name: price, dtype: float64"
      ]
     },
     "execution_count": 50,
     "metadata": {},
     "output_type": "execute_result"
    }
   ],
   "source": [
    "be.groupby('builtInKitchen')['price'].mean()"
   ]
  },
  {
   "cell_type": "code",
   "execution_count": 51,
   "id": "2daaad18-fbaa-4a01-b649-18cfbc1297ef",
   "metadata": {},
   "outputs": [
    {
     "data": {
      "text/plain": [
       "PointbiserialrResult(correlation=0.20941014807940062, pvalue=2.280819534796315e-09)"
      ]
     },
     "execution_count": 51,
     "metadata": {},
     "output_type": "execute_result"
    }
   ],
   "source": [
    "stats.pointbiserialr(be['price'], be.balcony)"
   ]
  },
  {
   "cell_type": "markdown",
   "id": "d1def90f-71e1-447b-8906-5f0ac6b880b5",
   "metadata": {},
   "source": [
    "The above results are interpreted in the blog post"
   ]
  },
  {
   "cell_type": "code",
   "execution_count": null,
   "id": "9883b340-b882-4333-b5b1-6ec56fce7ac3",
   "metadata": {},
   "outputs": [],
   "source": []
  }
 ],
 "metadata": {
  "kernelspec": {
   "display_name": "Python 3 (ipykernel)",
   "language": "python",
   "name": "python3"
  },
  "language_info": {
   "codemirror_mode": {
    "name": "ipython",
    "version": 3
   },
   "file_extension": ".py",
   "mimetype": "text/x-python",
   "name": "python",
   "nbconvert_exporter": "python",
   "pygments_lexer": "ipython3",
   "version": "3.9.12"
  }
 },
 "nbformat": 4,
 "nbformat_minor": 5
}
